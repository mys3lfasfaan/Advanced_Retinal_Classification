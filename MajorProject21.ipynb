{
  "cells": [
    {
      "cell_type": "code",
      "execution_count": null,
      "metadata": {
        "colab": {
          "base_uri": "https://localhost:8080/"
        },
        "id": "ouv3jZzHFt95",
        "outputId": "29a7b6a6-23fa-48b4-c453-b5260624ab86"
      },
      "outputs": [],
      "source": [
        "from google.colab import drive\n",
        "drive.mount('/content/drive')"
      ]
    },
    {
      "cell_type": "code",
      "execution_count": null,
      "metadata": {
        "id": "AKEaOPdTmakB"
      },
      "outputs": [],
      "source": [
        "from zipfile import ZipFile\n",
        "with ZipFile('/content/drive/MyDrive/Colab Notebooks/Resized All Images.zip') as zipObj:\n",
        "  zipObj.extractall()"
      ]
    },
    {
      "cell_type": "markdown",
      "metadata": {
        "id": "A1EL5aju0aR_"
      },
      "source": [
        "# Resizer"
      ]
    },
    {
      "cell_type": "code",
      "execution_count": null,
      "metadata": {
        "colab": {
          "base_uri": "https://localhost:8080/"
        },
        "id": "OsGJXFavzX-O",
        "outputId": "ac2b6bde-defe-4e31-8197-4dde88ab5b86"
      },
      "outputs": [],
      "source": [
        "pip install Augmentor"
      ]
    },
    {
      "cell_type": "code",
      "execution_count": null,
      "metadata": {
        "id": "HM27wg37zagP"
      },
      "outputs": [],
      "source": [
        "import Augmentor as ag"
      ]
    },
    {
      "cell_type": "code",
      "execution_count": null,
      "metadata": {
        "colab": {
          "base_uri": "https://localhost:8080/"
        },
        "id": "iln70Z3FzgzD",
        "outputId": "40584928-71c5-4d6c-c09b-3f4ecd60eebc"
      },
      "outputs": [],
      "source": [
        "pipe = ag.Pipeline(\"/content/Resized All Images\", output_directory=\"/content/output2\")\n",
        "pipe.crop_by_size(probability = 1, height=1424, width=1424)\n",
        "pipe.resize(probability = 1, width=300, height=300)\n",
        "pipe.rotate(probability=0.8, max_left_rotation = 10, max_right_rotation = 10)  "
      ]
    },
    {
      "cell_type": "code",
      "execution_count": null,
      "metadata": {},
      "outputs": [],
      "source": [
        "pipe."
      ]
    },
    {
      "cell_type": "code",
      "execution_count": null,
      "metadata": {
        "colab": {
          "base_uri": "https://localhost:8080/"
        },
        "id": "VH5wZyIg1b0l",
        "outputId": "43a6fe16-d806-4411-f8a1-f05856907c88"
      },
      "outputs": [],
      "source": [
        "pipe.sample(10000)"
      ]
    },
    {
      "cell_type": "markdown",
      "metadata": {
        "id": "KuvL7xeRrood"
      },
      "source": [
        "# With GPU Augmentation"
      ]
    },
    {
      "cell_type": "code",
      "execution_count": null,
      "metadata": {
        "id": "F3A686UWroF8"
      },
      "outputs": [],
      "source": [
        "import pathlib\n",
        "import tensorflow as tf\n",
        "\n",
        "data_dir = pathlib.Path('/content/output2')\n",
        "img_height = 300\n",
        "img_width = 300"
      ]
    },
    {
      "cell_type": "code",
      "execution_count": null,
      "metadata": {
        "colab": {
          "base_uri": "https://localhost:8080/"
        },
        "id": "SIlbPJUrrq54",
        "outputId": "a5ff6f8a-e8c5-4749-fcdc-9194f7f0b9b7"
      },
      "outputs": [],
      "source": [
        "train_ds = tf.keras.utils.image_dataset_from_directory(\n",
        "    data_dir,\n",
        "    validation_split=0.2,\n",
        "    subset=\"training\",\n",
        "    seed=123,\n",
        "    image_size=(img_height,img_width),\n",
        "    batch_size=2\n",
        ")"
      ]
    },
    {
      "cell_type": "code",
      "execution_count": null,
      "metadata": {
        "colab": {
          "base_uri": "https://localhost:8080/"
        },
        "id": "je3-pokgrsyJ",
        "outputId": "9c8b4c3e-545c-4097-bda3-19a23c38d710"
      },
      "outputs": [],
      "source": [
        "val_ds = tf.keras.utils.image_dataset_from_directory(\n",
        "    data_dir,\n",
        "    validation_split=0.2,\n",
        "    subset=\"validation\",\n",
        "    seed=123,\n",
        "    image_size=(img_height,img_width),\n",
        "    batch_size=2\n",
        ")"
      ]
    },
    {
      "cell_type": "code",
      "execution_count": null,
      "metadata": {
        "id": "CiJc3uqlrvG-"
      },
      "outputs": [],
      "source": [
        "normalization_layer = tf.keras.layers.Rescaling(1./255)"
      ]
    },
    {
      "cell_type": "code",
      "execution_count": null,
      "metadata": {
        "id": "g81lhOVvrx50"
      },
      "outputs": [],
      "source": [
        "import numpy as np\n",
        "\n",
        "normalized_ds = train_ds.map(lambda x,y: (normalization_layer(x),y))\n",
        "image_batch, labels_batch = next(iter(normalized_ds))\n",
        "first_image = image_batch[0]"
      ]
    },
    {
      "cell_type": "code",
      "execution_count": null,
      "metadata": {
        "id": "x0v08CuYr0WV"
      },
      "outputs": [],
      "source": [
        "AUTOTUNE = tf.data.AUTOTUNE\n",
        "\n",
        "train_ds = train_ds.cache().shuffle(1000).prefetch(buffer_size=AUTOTUNE)\n",
        "val_ds = val_ds.cache().prefetch(buffer_size=AUTOTUNE)"
      ]
    },
    {
      "cell_type": "code",
      "execution_count": null,
      "metadata": {
        "id": "h6_pvwllr17Y"
      },
      "outputs": [],
      "source": [
        "from tensorflow.keras.applications import ResNet152V2, InceptionV3, EfficientNetB4, DenseNet201\n",
        "from tensorflow.keras.models import Model\n",
        "from keras.layers import GlobalAveragePooling2D, Flatten, BatchNormalization, Dense, Dropout\n",
        "from tensorflow.keras.layers import MaxPooling2D, GlobalAveragePooling2D\n",
        "\n",
        "# Model 1\n",
        "\n",
        "base_model = InceptionV3(\n",
        "    input_shape = (300,300,3),\n",
        "    weights = \"imagenet\",\n",
        "    include_top = False\n",
        ")\n",
        "\n",
        "for layer in base_model.layers[:10]:\n",
        "  layer.trainable = False\n",
        "\n",
        "x = base_model.output\n",
        "x = GlobalAveragePooling2D()(x)\n",
        "x = Dense(512, activation = 'relu')(x)\n",
        "x = Dropout(0.4)(x)\n",
        "\n",
        "predictions = Dense(6, activation='softmax')(x)\n",
        "model1 = Model(inputs=base_model.inputs, outputs = predictions)"
      ]
    },
    {
      "cell_type": "code",
      "execution_count": null,
      "metadata": {
        "id": "LXtYklqmsAcE"
      },
      "outputs": [],
      "source": [
        "# Model 2\n",
        "\n",
        "base_model = DenseNet201(\n",
        "    input_shape = (300,300,3),\n",
        "    weights = \"imagenet\",\n",
        "    include_top = False\n",
        ")\n",
        "\n",
        "for layer in base_model.layers[:10]:\n",
        "  layer.trainable = False\n",
        "\n",
        "x = base_model.output\n",
        "x = GlobalAveragePooling2D()(x)\n",
        "x = Dense(512, activation = 'relu')(x)\n",
        "x = Dropout(0.3)(x)\n",
        "\n",
        "predictions = Dense(6, activation='softmax')(x)\n",
        "model2 = Model(inputs=base_model.inputs, outputs = predictions)"
      ]
    },
    {
      "cell_type": "code",
      "execution_count": null,
      "metadata": {
        "id": "xPiBmWFzsBxq"
      },
      "outputs": [],
      "source": [
        "# Model 3\n",
        "\n",
        "base_model = EfficientNetB4(\n",
        "    input_shape = (300,300,3),\n",
        "    weights = \"imagenet\",\n",
        "    include_top = False\n",
        ")\n",
        "\n",
        "for layer in base_model.layers[:10]:\n",
        "  layer.trainable = False\n",
        "\n",
        "x = base_model.output\n",
        "x = GlobalAveragePooling2D()(x)\n",
        "x = Dense(512, activation = 'relu')(x)\n",
        "x = Dropout(0.3)(x)\n",
        "\n",
        "predictions = Dense(6, activation='softmax')(x)\n",
        "model3 = Model(inputs=base_model.inputs, outputs = predictions)"
      ]
    },
    {
      "cell_type": "code",
      "execution_count": null,
      "metadata": {
        "id": "usdbPcllsDNT"
      },
      "outputs": [],
      "source": [
        "# Model 4\n",
        "\n",
        "base_model = ResNet152V2(\n",
        "    input_shape = (300,300,3),\n",
        "    weights = \"imagenet\",\n",
        "    include_top = False\n",
        ")\n",
        "\n",
        "for layer in base_model.layers[:10]:\n",
        "  layer.trainable = False\n",
        "\n",
        "x = base_model.output\n",
        "x = GlobalAveragePooling2D()(x)\n",
        "x = Dense(512, activation = 'relu')(x)\n",
        "x = Dropout(0.3)(x)\n",
        "\n",
        "predictions = Dense(6, activation='softmax')(x)\n",
        "model4 = Model(inputs=base_model.inputs, outputs = predictions)"
      ]
    },
    {
      "cell_type": "code",
      "execution_count": null,
      "metadata": {
        "id": "7JXB4uRo3iig"
      },
      "outputs": [],
      "source": [
        "from tensorflow.keras.callbacks import ModelCheckpoint\n",
        "\n",
        "model_filepath = \"/content/drive/MyDrive/model2 - {epoch:02d} - {val_accuracy:.4f}.hdf5\"\n",
        "checkpoint = ModelCheckpoint(\n",
        "    filepath = model_filepath,\n",
        "    monitor = 'val_accuracy',\n",
        "    mode = 'max',\n",
        "    save_best_only = True,\n",
        "    verbose = 1\n",
        ")"
      ]
    },
    {
      "cell_type": "code",
      "execution_count": null,
      "metadata": {
        "id": "1xcujJzcPpZc"
      },
      "outputs": [],
      "source": [
        "model1.compile(optimizer='adam',loss=tf.losses.SparseCategoricalCrossentropy(from_logits=False),metrics=['accuracy'])"
      ]
    },
    {
      "cell_type": "code",
      "execution_count": null,
      "metadata": {
        "id": "5IghMuDVPreh"
      },
      "outputs": [],
      "source": [
        "model2.compile(optimizer='adam',loss=tf.losses.SparseCategoricalCrossentropy(from_logits=False),metrics=['accuracy'])"
      ]
    },
    {
      "cell_type": "code",
      "execution_count": null,
      "metadata": {
        "id": "0wayI-xPsdvT"
      },
      "outputs": [],
      "source": [
        "model3.compile(optimizer='adam',loss=tf.losses.SparseCategoricalCrossentropy(from_logits=False),metrics=['accuracy'])"
      ]
    },
    {
      "cell_type": "code",
      "execution_count": null,
      "metadata": {
        "id": "3D_K01-VPtor"
      },
      "outputs": [],
      "source": [
        "model4.compile(optimizer='adam',loss=tf.losses.SparseCategoricalCrossentropy(from_logits=False),metrics=['accuracy'])"
      ]
    },
    {
      "cell_type": "code",
      "execution_count": null,
      "metadata": {
        "colab": {
          "base_uri": "https://localhost:8080/"
        },
        "id": "loDGHNudsd2F",
        "outputId": "5d8ce480-8408-4432-d561-5b83f78bc898"
      },
      "outputs": [],
      "source": [
        "with tf.device(\"/device:GPU:0\"):\n",
        "  history1 = model1.fit(\n",
        "      train_ds,\n",
        "      validation_data = val_ds,\n",
        "      epochs = 7,\n",
        "      callbacks = [checkpoint]\n",
        "  )"
      ]
    },
    {
      "cell_type": "code",
      "execution_count": null,
      "metadata": {
        "colab": {
          "base_uri": "https://localhost:8080/"
        },
        "id": "c762JcZjsd6_",
        "outputId": "826a172b-79ab-4ea4-8f80-1330fab713d7"
      },
      "outputs": [],
      "source": [
        "with tf.device(\"/device:GPU:0\"):\n",
        "  history2 = model2.fit(\n",
        "      train_ds,\n",
        "      validation_data = val_ds,\n",
        "      epochs = 7,\n",
        "      callbacks = [checkpoint]\n",
        "  )"
      ]
    },
    {
      "cell_type": "code",
      "execution_count": null,
      "metadata": {
        "id": "eSKGvuVHseB4"
      },
      "outputs": [],
      "source": [
        "with tf.device(\"/device:GPU:0\"):\n",
        "  history3 = model3.fit(\n",
        "      train_ds,\n",
        "      validation_data = val_ds,\n",
        "      epochs = 7,\n",
        "      callbacks = [checkpoint]\n",
        "  )"
      ]
    },
    {
      "cell_type": "code",
      "execution_count": null,
      "metadata": {
        "id": "pgbsMkrLsiGb"
      },
      "outputs": [],
      "source": [
        "with tf.device(\"/device:GPU:0\"):\n",
        "  history4 = model4.fit(\n",
        "      train_ds,\n",
        "      validation_data = val_ds,\n",
        "      epochs = 7,\n",
        "      callbacks = [checkpoint]\n",
        "  )"
      ]
    },
    {
      "cell_type": "code",
      "execution_count": null,
      "metadata": {
        "id": "QWhL8VKfsrRx"
      },
      "outputs": [],
      "source": [
        "from tensorflow.keras.models import Model, load_model\n",
        "from tensorflow.keras.layers import Input, Average\n",
        "\n",
        "model_1 = load_model(model_filepath)\n",
        "model_2 = load_model(model_filepath)\n",
        "model_3 = load_model(model_filepath)\n",
        "model_4 = load_model(model_filepath)\n",
        "\n",
        "models = [model_1, model_2, model_3, model_4]\n",
        "model_input = Input(shape=(300,300,3))\n",
        "model_outputs = [model(model_input) for model in models]\n",
        "ensemble_output = Average()(model_outputs)\n",
        "ensemble_model = Model(inputs = model_input, outputs = ensemble_output, name='ensemble')"
      ]
    },
    {
      "cell_type": "code",
      "execution_count": null,
      "metadata": {
        "id": "wYGfGRTGtQA4"
      },
      "outputs": [],
      "source": [
        "ensemble_model.compile(optimizer='adam', loss=tf.losses.SparseCategoricalCrossEntropy(from_logits=False), metrics=['accuracy'])"
      ]
    },
    {
      "cell_type": "code",
      "execution_count": null,
      "metadata": {
        "id": "49NAlyOKtRZ7"
      },
      "outputs": [],
      "source": [
        "history = ensemble_model.fit(\n",
        "    train_ds,\n",
        "    val_ds,\n",
        "    epochs = 5,\n",
        "    callbacks = [checkpoint]\n",
        ")"
      ]
    }
  ],
  "metadata": {
    "accelerator": "GPU",
    "colab": {
      "gpuType": "T4",
      "provenance": []
    },
    "kernelspec": {
      "display_name": "Python 3",
      "name": "python3"
    },
    "language_info": {
      "codemirror_mode": {
        "name": "ipython",
        "version": 3
      },
      "file_extension": ".py",
      "mimetype": "text/x-python",
      "name": "python",
      "nbconvert_exporter": "python",
      "pygments_lexer": "ipython3",
      "version": "3.11.7"
    }
  },
  "nbformat": 4,
  "nbformat_minor": 0
}
